{
 "cells": [
  {
   "cell_type": "code",
   "execution_count": null,
   "metadata": {},
   "outputs": [],
   "source": [
    "# Internal package that removes spectra with less than 5 peaks\n",
    "from metabolomics.cleaner.spectrum_cleaner import SpectrumCleaner\n",
    "import pandas as pd\n",
    "import numpy as np"
   ]
  },
  {
   "cell_type": "markdown",
   "metadata": {},
   "source": [
    "# Load data"
   ]
  },
  {
   "cell_type": "code",
   "execution_count": 1,
   "metadata": {},
   "outputs": [],
   "source": [
    "DATA_DIR = \"../data/\""
   ]
  },
  {
   "cell_type": "code",
   "execution_count": 6,
   "metadata": {},
   "outputs": [],
   "source": [
    "# This file can be generated in 1_data_stats.ipynb in the same way that\n",
    "# enpkg_m+h+only_with_ms_data.pq is generated without using the M+H adduct filter\n",
    "data = pd.read_parquet(f\"{DATA_DIR}/processed/enpkg_with_ms_data.pq\")"
   ]
  },
  {
   "cell_type": "code",
   "execution_count": 7,
   "metadata": {},
   "outputs": [],
   "source": [
    "data[\"ion_mode\"] = data.charge.apply(lambda x: \"positive\" if x > 0 else \"negative\")\n",
    "\n",
    "data.rename(\n",
    "    {\n",
    "        \"mz_list\": \"normalized_mzs\",\n",
    "        \"i_list\": \"normalized_intensities\",\n",
    "        \"precursor_mz\": \"ms2_precursor_mz\",\n",
    "        \"smiles\": \"smiles_2d\",\n",
    "    },\n",
    "    axis=1,\n",
    "    inplace=True,\n",
    ")"
   ]
  },
  {
   "cell_type": "markdown",
   "metadata": {},
   "source": [
    "# Clean data (remove spectra with less than 5 peaks)"
   ]
  },
  {
   "cell_type": "code",
   "execution_count": null,
   "metadata": {},
   "outputs": [],
   "source": [
    "cleaner = SpectrumCleaner()\n",
    "data = cleaner.clean_df(\n",
    "    data,\n",
    "    message_col=\"cleaner_message\",\n",
    "    mzs_field=\"normalized_mzs\",\n",
    "    intensities_field=\"normalized_intensities\",\n",
    ")"
   ]
  },
  {
   "cell_type": "code",
   "execution_count": 10,
   "metadata": {},
   "outputs": [
    {
     "data": {
      "text/plain": [
       "cleaner_message\n",
       "[]                         1006233\n",
       "[number of peaks 4 < 5]        292\n",
       "[number of peaks 3 < 5]        168\n",
       "[number of peaks 2 < 5]         82\n",
       "[number of peaks 1 < 5]         22\n",
       "Name: count, dtype: int64"
      ]
     },
     "execution_count": 10,
     "metadata": {},
     "output_type": "execute_result"
    }
   ],
   "source": [
    "data.cleaner_message.value_counts()"
   ]
  },
  {
   "cell_type": "code",
   "execution_count": 17,
   "metadata": {},
   "outputs": [],
   "source": [
    "cleaned_data = data[~data.normalized_mzs.isna()]"
   ]
  },
  {
   "cell_type": "code",
   "execution_count": null,
   "metadata": {},
   "outputs": [],
   "source": [
    "# Add unique row id\n",
    "data[\"row_uid\"] = np.arange(len(data))\n",
    "data[\"row_uid\"] = data.row_uid.apply(lambda x: f\"id_{x}\")"
   ]
  },
  {
   "cell_type": "code",
   "execution_count": 19,
   "metadata": {},
   "outputs": [],
   "source": [
    "cleaned_data.to_parquet(\"{DATA_DIR}/processed/enpkg_with_ms_data_cleaned.pq\")"
   ]
  },
  {
   "cell_type": "code",
   "execution_count": null,
   "metadata": {},
   "outputs": [],
   "source": []
  }
 ],
 "metadata": {
  "kernelspec": {
   "display_name": "unknown-chem-space-_ncANHMu-py3.10",
   "language": "python",
   "name": "python3"
  },
  "language_info": {
   "codemirror_mode": {
    "name": "ipython",
    "version": 3
   },
   "file_extension": ".py",
   "mimetype": "text/x-python",
   "name": "python",
   "nbconvert_exporter": "python",
   "pygments_lexer": "ipython3",
   "version": "3.10.16"
  }
 },
 "nbformat": 4,
 "nbformat_minor": 2
}
