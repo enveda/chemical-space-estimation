{
 "cells": [
  {
   "cell_type": "code",
   "execution_count": 1,
   "metadata": {},
   "outputs": [],
   "source": [
    "from scipy.sparse import load_npz\n",
    "from igraph import Graph\n",
    "import numpy as np\n",
    "import pandas as pd"
   ]
  },
  {
   "cell_type": "code",
   "execution_count": 2,
   "metadata": {},
   "outputs": [],
   "source": [
    "threshold = 0.5\n",
    "subset_adducts = True"
   ]
  },
  {
   "cell_type": "code",
   "execution_count": 3,
   "metadata": {},
   "outputs": [],
   "source": [
    "DATA_DIR = \"../data/\""
   ]
  },
  {
   "cell_type": "markdown",
   "metadata": {},
   "source": [
    "# Read in data"
   ]
  },
  {
   "cell_type": "code",
   "execution_count": 4,
   "metadata": {},
   "outputs": [],
   "source": [
    "# File paths\n",
    "matrix_path = f\"{DATA_DIR}/processed/entropy_scores_matrix.npz\"\n",
    "metadata_path = f\"{DATA_DIR}/processed/entropy_scores_metadata.npz\"\n",
    "\n",
    "# Load the sparse matrix\n",
    "combined_sparse_matrix = load_npz(matrix_path)\n",
    "\n",
    "# Make sure matrix is symmetric (there are sometimes same floating point differences)\n",
    "combined_sparse_matrix = combined_sparse_matrix.maximum(\n",
    "    combined_sparse_matrix.transpose()\n",
    ")"
   ]
  },
  {
   "cell_type": "code",
   "execution_count": 5,
   "metadata": {},
   "outputs": [],
   "source": [
    "# Load row and column names\n",
    "metadata = np.load(metadata_path, allow_pickle=True)\n",
    "row_names = metadata[\"row_names\"]\n",
    "col_names = metadata[\"col_names\"]"
   ]
  },
  {
   "cell_type": "markdown",
   "metadata": {},
   "source": [
    "# Subset data to only [M+H]+ adducts"
   ]
  },
  {
   "cell_type": "code",
   "execution_count": 6,
   "metadata": {},
   "outputs": [
    {
     "name": "stdout",
     "output_type": "stream",
     "text": [
      "(335137, 335137)\n"
     ]
    }
   ],
   "source": [
    "if subset_adducts:\n",
    "    cleaned_spectral_data = pd.read_parquet(\n",
    "        f\"{DATA_DIR}/processed/enpkg_with_ms_data_cleaned.pq\"\n",
    "    )\n",
    "\n",
    "    cleaned_spectral_data = cleaned_spectral_data[\n",
    "        cleaned_spectral_data[\"adduct\"] == \"[M+H]+\"\n",
    "    ]\n",
    "\n",
    "    row_name_to_index = {name: i for i, name in enumerate(row_names)}\n",
    "    col_name_to_index = {name: i for i, name in enumerate(col_names)}\n",
    "    subset_row_indices = [\n",
    "        row_name_to_index[name] for name in cleaned_spectral_data[\"row_uid\"]\n",
    "    ]\n",
    "    subset_col_indices = [\n",
    "        col_name_to_index[name] for name in cleaned_spectral_data[\"row_uid\"]\n",
    "    ]\n",
    "\n",
    "    combined_sparse_matrix = combined_sparse_matrix[subset_row_indices, :][\n",
    "        :, subset_col_indices\n",
    "    ]\n",
    "    row_names = row_names[subset_row_indices]\n",
    "    col_names = col_names[subset_col_indices]\n",
    "    print(combined_sparse_matrix.shape)"
   ]
  },
  {
   "cell_type": "markdown",
   "metadata": {},
   "source": [
    "# Create graph"
   ]
  },
  {
   "cell_type": "code",
   "execution_count": 7,
   "metadata": {},
   "outputs": [],
   "source": [
    "# Filter out values below the threshold\n",
    "combined_sparse_matrix = combined_sparse_matrix.multiply(\n",
    "    combined_sparse_matrix > threshold\n",
    ")"
   ]
  },
  {
   "cell_type": "code",
   "execution_count": 8,
   "metadata": {},
   "outputs": [],
   "source": [
    "# Get edges\n",
    "sources, targets = combined_sparse_matrix.nonzero()\n",
    "edges = list(zip(sources, targets))"
   ]
  },
  {
   "cell_type": "code",
   "execution_count": 9,
   "metadata": {},
   "outputs": [],
   "source": [
    "# Create graph\n",
    "g = Graph(edges=edges, directed=False)"
   ]
  },
  {
   "cell_type": "code",
   "execution_count": 10,
   "metadata": {},
   "outputs": [],
   "source": [
    "# Get connected components\n",
    "components = g.connected_components()"
   ]
  },
  {
   "cell_type": "code",
   "execution_count": 11,
   "metadata": {},
   "outputs": [
    {
     "name": "stdout",
     "output_type": "stream",
     "text": [
      "Num clusters:  41931\n"
     ]
    }
   ],
   "source": [
    "print(\"Num clusters: \", len(components))"
   ]
  },
  {
   "cell_type": "markdown",
   "metadata": {},
   "source": [
    "# Map back to row uids"
   ]
  },
  {
   "cell_type": "code",
   "execution_count": 12,
   "metadata": {},
   "outputs": [],
   "source": [
    "# Create cluster labels\n",
    "membership = components.membership\n",
    "labels = {c: m for c, m in zip(row_names, membership)}"
   ]
  },
  {
   "cell_type": "code",
   "execution_count": 13,
   "metadata": {},
   "outputs": [],
   "source": [
    "df = pd.read_parquet(f\"{DATA_DIR}/processed/enpkg_with_ms_data_cleaned.pq\")\n",
    "df[\"cluster\"] = df[\"row_uid\"].map(labels)"
   ]
  },
  {
   "cell_type": "code",
   "execution_count": 13,
   "metadata": {},
   "outputs": [],
   "source": [
    "# save cluster labels\n",
    "df.to_parquet(\n",
    "    f\"{DATA_DIR}/clustering_with_networks/spectral_entropy_10ppm_{threshold}.pq\"\n",
    ")"
   ]
  },
  {
   "cell_type": "markdown",
   "metadata": {},
   "source": [
    "# Make sure clusters behave as expected"
   ]
  },
  {
   "cell_type": "code",
   "execution_count": 14,
   "metadata": {},
   "outputs": [],
   "source": [
    "df[\"precursor_diff\"] = df.groupby(\"cluster\")[\"ms2_precursor_mz\"].transform(\n",
    "    lambda x: max(x) - min(x)\n",
    ")"
   ]
  },
  {
   "cell_type": "code",
   "execution_count": 15,
   "metadata": {},
   "outputs": [
    {
     "data": {
      "text/plain": [
       "count    335137.000000\n",
       "mean          0.004734\n",
       "std           0.003043\n",
       "min           0.000000\n",
       "25%           0.002500\n",
       "50%           0.004800\n",
       "75%           0.006800\n",
       "max           0.017800\n",
       "Name: precursor_diff, dtype: float64"
      ]
     },
     "execution_count": 15,
     "metadata": {},
     "output_type": "execute_result"
    }
   ],
   "source": [
    "# These should all be close to 0\n",
    "df.precursor_diff.describe()"
   ]
  },
  {
   "cell_type": "code",
   "execution_count": null,
   "metadata": {},
   "outputs": [],
   "source": []
  }
 ],
 "metadata": {
  "kernelspec": {
   "display_name": "unknown-chem-space-8ES7VkZG-py3.10",
   "language": "python",
   "name": "python3"
  },
  "language_info": {
   "codemirror_mode": {
    "name": "ipython",
    "version": 3
   },
   "file_extension": ".py",
   "mimetype": "text/x-python",
   "name": "python",
   "nbconvert_exporter": "python",
   "pygments_lexer": "ipython3",
   "version": "3.10.12"
  }
 },
 "nbformat": 4,
 "nbformat_minor": 2
}
