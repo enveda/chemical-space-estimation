{
 "cells": [
  {
   "cell_type": "markdown",
   "metadata": {},
   "source": [
    "# Diversity estimation on ENPKG dataset"
   ]
  },
  {
   "cell_type": "markdown",
   "metadata": {},
   "source": [
    "In this notebook, we calculate how many orders, families and genus are in the ENPKG dataset.\n",
    "We then compare this to a null distribution of orders, families and genus in 10,000 random samples of the same size as the ENPKG dataset. The bottom line is that the ENPKG dataset has a lower diversity of orders, families and genus, compared to what you would expect by chance if you pick random species from the plant kingdom of the same size as the ENPKG dataset (~1,000 species).\n"
   ]
  },
  {
   "cell_type": "code",
   "execution_count": 1,
   "metadata": {},
   "outputs": [],
   "source": [
    "# Import libraries\n",
    "import os\n",
    "import pandas as pd\n",
    "import matplotlib.pyplot as plt\n",
    "import seaborn as sns\n",
    "from tqdm import tqdm\n",
    "\n",
    "from collections import defaultdict\n",
    "import obonet\n",
    "import networkx\n",
    "\n",
    "pd.set_option(\"mode.chained_assignment\", None)"
   ]
  },
  {
   "cell_type": "code",
   "execution_count": 2,
   "metadata": {},
   "outputs": [],
   "source": [
    "# Create directories\n",
    "DATA_DIR = \"../data\"\n",
    "FIGURE_DIR = \"../figures\"\n",
    "\n",
    "os.makedirs(FIGURE_DIR, exist_ok=True)\n",
    "os.makedirs(DATA_DIR, exist_ok=True)\n",
    "os.makedirs(f\"{DATA_DIR}/raw\", exist_ok=True)\n",
    "os.makedirs(f\"{DATA_DIR}/processed\", exist_ok=True)"
   ]
  },
  {
   "cell_type": "markdown",
   "metadata": {},
   "source": [
    "### Load dataset"
   ]
  },
  {
   "cell_type": "code",
   "execution_count": null,
   "metadata": {},
   "outputs": [
    {
     "data": {
      "application/vnd.microsoft.datawrangler.viewer.v0+json": {
       "columns": [
        {
         "name": "index",
         "rawType": "int64",
         "type": "integer"
        },
        {
         "name": "Unnamed: 0",
         "rawType": "int64",
         "type": "integer"
        },
        {
         "name": "ID",
         "rawType": "object",
         "type": "string"
        },
        {
         "name": "Title",
         "rawType": "object",
         "type": "string"
        },
        {
         "name": "Species",
         "rawType": "object",
         "type": "string"
        },
        {
         "name": "mapped_curie",
         "rawType": "object",
         "type": "string"
        },
        {
         "name": "mapped_species",
         "rawType": "object",
         "type": "string"
        },
        {
         "name": "sourceinfo",
         "rawType": "object",
         "type": "string"
        },
        {
         "name": "taxon.ott_id",
         "rawType": "float64",
         "type": "float"
        }
       ],
       "conversionMethod": "pd.DataFrame",
       "ref": "5145cea9-429d-4441-9d2d-514f178c9ff6",
       "rows": [
        [
         "0",
         "0",
         "Q715019",
         "Datura metel - Wikidata",
         "Datura metel",
         "ncbitaxon:4075",
         "Datura inoxia",
         "ncbi:4075",
         "473815.0"
        ],
        [
         "1",
         "1",
         "Q162171",
         "Melia azedarach - Wikidata",
         "Melia azedarach",
         "ncbitaxon:155640",
         "Melia azedarach",
         "ncbi:155640",
         "916052.0"
        ]
       ],
       "shape": {
        "columns": 8,
        "rows": 2
       }
      },
      "text/html": [
       "<div>\n",
       "<style scoped>\n",
       "    .dataframe tbody tr th:only-of-type {\n",
       "        vertical-align: middle;\n",
       "    }\n",
       "\n",
       "    .dataframe tbody tr th {\n",
       "        vertical-align: top;\n",
       "    }\n",
       "\n",
       "    .dataframe thead th {\n",
       "        text-align: right;\n",
       "    }\n",
       "</style>\n",
       "<table border=\"1\" class=\"dataframe\">\n",
       "  <thead>\n",
       "    <tr style=\"text-align: right;\">\n",
       "      <th></th>\n",
       "      <th>Unnamed: 0</th>\n",
       "      <th>ID</th>\n",
       "      <th>Title</th>\n",
       "      <th>Species</th>\n",
       "      <th>mapped_curie</th>\n",
       "      <th>mapped_species</th>\n",
       "      <th>sourceinfo</th>\n",
       "      <th>taxon.ott_id</th>\n",
       "    </tr>\n",
       "  </thead>\n",
       "  <tbody>\n",
       "    <tr>\n",
       "      <th>0</th>\n",
       "      <td>0</td>\n",
       "      <td>Q715019</td>\n",
       "      <td>Datura metel - Wikidata</td>\n",
       "      <td>Datura metel</td>\n",
       "      <td>ncbitaxon:4075</td>\n",
       "      <td>Datura inoxia</td>\n",
       "      <td>ncbi:4075</td>\n",
       "      <td>473815.0</td>\n",
       "    </tr>\n",
       "    <tr>\n",
       "      <th>1</th>\n",
       "      <td>1</td>\n",
       "      <td>Q162171</td>\n",
       "      <td>Melia azedarach - Wikidata</td>\n",
       "      <td>Melia azedarach</td>\n",
       "      <td>ncbitaxon:155640</td>\n",
       "      <td>Melia azedarach</td>\n",
       "      <td>ncbi:155640</td>\n",
       "      <td>916052.0</td>\n",
       "    </tr>\n",
       "  </tbody>\n",
       "</table>\n",
       "</div>"
      ],
      "text/plain": [
       "   Unnamed: 0       ID                       Title          Species  \\\n",
       "0           0  Q715019     Datura metel - Wikidata     Datura metel   \n",
       "1           1  Q162171  Melia azedarach - Wikidata  Melia azedarach   \n",
       "\n",
       "       mapped_curie   mapped_species   sourceinfo  taxon.ott_id  \n",
       "0    ncbitaxon:4075    Datura inoxia    ncbi:4075      473815.0  \n",
       "1  ncbitaxon:155640  Melia azedarach  ncbi:155640      916052.0  "
      ]
     },
     "execution_count": 3,
     "metadata": {},
     "output_type": "execute_result"
    }
   ],
   "source": [
    "# This file is available in the zenodo repository associated with the ENPKG project\n",
    "wikidata_df = pd.read_csv(\n",
    "    f\"{DATA_DIR}/raw/wikidata_ids_to_plant_names.csv\",\n",
    ")\n",
    "wikidata_df.head(2)"
   ]
  },
  {
   "cell_type": "markdown",
   "metadata": {},
   "source": [
    "### Overview on the taxonomic distribution of the dataset"
   ]
  },
  {
   "cell_type": "code",
   "execution_count": 4,
   "metadata": {},
   "outputs": [
    {
     "name": "stdout",
     "output_type": "stream",
     "text": [
      "loading graph (this might take a bit...)\n"
     ]
    }
   ],
   "source": [
    "# Read the taxrank ontology\n",
    "url = \"http://purl.obolibrary.org/obo/ncbitaxon.obo\"\n",
    "print(\"loading graph (this might take a bit...)\")\n",
    "graph = obonet.read_obo(url)\n",
    "\n",
    "# Get the childs of Viridiplantae (all plants)\n",
    "plant_childs = networkx.ancestors(graph, \"NCBITaxon:33090\")\n",
    "# Subset the graph to make it faster to the relevant part (plants only)\n",
    "graph = graph.subgraph(plant_childs)"
   ]
  },
  {
   "cell_type": "code",
   "execution_count": 5,
   "metadata": {},
   "outputs": [
    {
     "name": "stderr",
     "output_type": "stream",
     "text": [
      "order grouping: 100%|██████████| 189/189 [00:25<00:00,  7.54it/s]\n",
      "family grouping: 100%|██████████| 924/924 [01:30<00:00, 10.25it/s]\n",
      "genus_nodes grouping: 100%|██████████| 17064/17064 [31:33<00:00,  9.01it/s] "
     ]
    },
    {
     "name": "stdout",
     "output_type": "stream",
     "text": [
      "267717\n",
      "265898\n",
      "245463\n"
     ]
    },
    {
     "name": "stderr",
     "output_type": "stream",
     "text": [
      "\n"
     ]
    }
   ],
   "source": [
    "order_nodes = set()\n",
    "family_nodes = set()\n",
    "genus_nodes = set()\n",
    "\n",
    "for id_, data in graph.nodes(data=True):\n",
    "\n",
    "    if \"property_value\" not in data:\n",
    "        continue\n",
    "\n",
    "    # Group edges based on the different taxonomic levels of interst\n",
    "    for value in data[\"property_value\"]:\n",
    "        if value == \"has_rank NCBITaxon:order\":\n",
    "            order_nodes.add(id_)\n",
    "        elif value == \"has_rank NCBITaxon:family\":\n",
    "            family_nodes.add(id_)\n",
    "        elif value == \"has_rank NCBITaxon:genus\":\n",
    "            genus_nodes.add(id_)\n",
    "\n",
    "species_to_order = defaultdict(list)\n",
    "species_to_family = defaultdict(list)\n",
    "species_to_genus = defaultdict(list)\n",
    "\n",
    "# Build groups for each family and subfamilies\n",
    "for node in tqdm(order_nodes, desc=\"order grouping\"):\n",
    "    children = set(networkx.ancestors(graph, node))\n",
    "    for child in children:\n",
    "        species_to_order[child].append(node)\n",
    "\n",
    "# Build groups for each family and subfamilies\n",
    "for node in tqdm(family_nodes, desc=\"family grouping\"):\n",
    "    children = set(networkx.ancestors(graph, node))\n",
    "    for child in children:\n",
    "        species_to_family[child].append(node)\n",
    "\n",
    "for node in tqdm(genus_nodes, desc=\"genus_nodes grouping\"):\n",
    "    children = set(networkx.ancestors(graph, node))\n",
    "    for child in children:\n",
    "        species_to_genus[child].append(node)\n",
    "\n",
    "# Dictionaries mapping species to their order, family and genus\n",
    "print(len(species_to_order))\n",
    "print(len(species_to_family))\n",
    "print(len(species_to_genus))"
   ]
  },
  {
   "cell_type": "code",
   "execution_count": 6,
   "metadata": {},
   "outputs": [
    {
     "data": {
      "text/plain": [
       "244443"
      ]
     },
     "execution_count": 6,
     "metadata": {},
     "output_type": "execute_result"
    }
   ],
   "source": [
    "# All plants for which we have order, family and genus information\n",
    "all_plants = set(species_to_order.keys()).intersection(\n",
    "    set(species_to_family.keys()).intersection(set(species_to_genus.keys()))\n",
    ")\n",
    "len(all_plants)"
   ]
  },
  {
   "cell_type": "markdown",
   "metadata": {},
   "source": [
    "# Diversity counts in ENPKG dataset"
   ]
  },
  {
   "cell_type": "code",
   "execution_count": 7,
   "metadata": {},
   "outputs": [],
   "source": [
    "wikidata_df[\"ncbitaxon_id\"] = wikidata_df[\"mapped_curie\"].str.replace(\n",
    "    \"ncbitaxon:\", \"NCBITaxon:\"\n",
    ")\n",
    "wikidata_df.dropna(inplace=True, subset=[\"ncbitaxon_id\"])"
   ]
  },
  {
   "cell_type": "code",
   "execution_count": 8,
   "metadata": {},
   "outputs": [],
   "source": [
    "wikidata_df[\"order\"] = wikidata_df[\"ncbitaxon_id\"].map(species_to_order)\n",
    "wikidata_df[\"family\"] = wikidata_df[\"ncbitaxon_id\"].map(species_to_family)\n",
    "wikidata_df[\"genus\"] = wikidata_df[\"ncbitaxon_id\"].map(species_to_genus)"
   ]
  },
  {
   "cell_type": "code",
   "execution_count": 9,
   "metadata": {},
   "outputs": [
    {
     "data": {
      "application/vnd.microsoft.datawrangler.viewer.v0+json": {
       "columns": [
        {
         "name": "index",
         "rawType": "int64",
         "type": "integer"
        },
        {
         "name": "Unnamed: 0",
         "rawType": "int64",
         "type": "integer"
        },
        {
         "name": "ID",
         "rawType": "object",
         "type": "string"
        },
        {
         "name": "Title",
         "rawType": "object",
         "type": "string"
        },
        {
         "name": "Species",
         "rawType": "object",
         "type": "string"
        },
        {
         "name": "mapped_curie",
         "rawType": "object",
         "type": "string"
        },
        {
         "name": "mapped_species",
         "rawType": "object",
         "type": "string"
        },
        {
         "name": "sourceinfo",
         "rawType": "object",
         "type": "string"
        },
        {
         "name": "taxon.ott_id",
         "rawType": "float64",
         "type": "float"
        },
        {
         "name": "ncbitaxon_id",
         "rawType": "object",
         "type": "string"
        },
        {
         "name": "order",
         "rawType": "object",
         "type": "unknown"
        },
        {
         "name": "family",
         "rawType": "object",
         "type": "unknown"
        },
        {
         "name": "genus",
         "rawType": "object",
         "type": "unknown"
        }
       ],
       "conversionMethod": "pd.DataFrame",
       "ref": "ceba2c66-d5ca-4bc9-9a0c-405c0df45875",
       "rows": [
        [
         "0",
         "0",
         "Q715019",
         "Datura metel - Wikidata",
         "Datura metel",
         "ncbitaxon:4075",
         "Datura inoxia",
         "ncbi:4075",
         "473815.0",
         "NCBITaxon:4075",
         "['NCBITaxon:4069']",
         "['NCBITaxon:4070']",
         "['NCBITaxon:4074']"
        ],
        [
         "1",
         "1",
         "Q162171",
         "Melia azedarach - Wikidata",
         "Melia azedarach",
         "ncbitaxon:155640",
         "Melia azedarach",
         "ncbi:155640",
         "916052.0",
         "NCBITaxon:155640",
         "['NCBITaxon:41937']",
         "['NCBITaxon:43707']",
         "['NCBITaxon:43708']"
        ]
       ],
       "shape": {
        "columns": 12,
        "rows": 2
       }
      },
      "text/html": [
       "<div>\n",
       "<style scoped>\n",
       "    .dataframe tbody tr th:only-of-type {\n",
       "        vertical-align: middle;\n",
       "    }\n",
       "\n",
       "    .dataframe tbody tr th {\n",
       "        vertical-align: top;\n",
       "    }\n",
       "\n",
       "    .dataframe thead th {\n",
       "        text-align: right;\n",
       "    }\n",
       "</style>\n",
       "<table border=\"1\" class=\"dataframe\">\n",
       "  <thead>\n",
       "    <tr style=\"text-align: right;\">\n",
       "      <th></th>\n",
       "      <th>Unnamed: 0</th>\n",
       "      <th>ID</th>\n",
       "      <th>Title</th>\n",
       "      <th>Species</th>\n",
       "      <th>mapped_curie</th>\n",
       "      <th>mapped_species</th>\n",
       "      <th>sourceinfo</th>\n",
       "      <th>taxon.ott_id</th>\n",
       "      <th>ncbitaxon_id</th>\n",
       "      <th>order</th>\n",
       "      <th>family</th>\n",
       "      <th>genus</th>\n",
       "    </tr>\n",
       "  </thead>\n",
       "  <tbody>\n",
       "    <tr>\n",
       "      <th>0</th>\n",
       "      <td>0</td>\n",
       "      <td>Q715019</td>\n",
       "      <td>Datura metel - Wikidata</td>\n",
       "      <td>Datura metel</td>\n",
       "      <td>ncbitaxon:4075</td>\n",
       "      <td>Datura inoxia</td>\n",
       "      <td>ncbi:4075</td>\n",
       "      <td>473815.0</td>\n",
       "      <td>NCBITaxon:4075</td>\n",
       "      <td>[NCBITaxon:4069]</td>\n",
       "      <td>[NCBITaxon:4070]</td>\n",
       "      <td>[NCBITaxon:4074]</td>\n",
       "    </tr>\n",
       "    <tr>\n",
       "      <th>1</th>\n",
       "      <td>1</td>\n",
       "      <td>Q162171</td>\n",
       "      <td>Melia azedarach - Wikidata</td>\n",
       "      <td>Melia azedarach</td>\n",
       "      <td>ncbitaxon:155640</td>\n",
       "      <td>Melia azedarach</td>\n",
       "      <td>ncbi:155640</td>\n",
       "      <td>916052.0</td>\n",
       "      <td>NCBITaxon:155640</td>\n",
       "      <td>[NCBITaxon:41937]</td>\n",
       "      <td>[NCBITaxon:43707]</td>\n",
       "      <td>[NCBITaxon:43708]</td>\n",
       "    </tr>\n",
       "  </tbody>\n",
       "</table>\n",
       "</div>"
      ],
      "text/plain": [
       "   Unnamed: 0       ID                       Title          Species  \\\n",
       "0           0  Q715019     Datura metel - Wikidata     Datura metel   \n",
       "1           1  Q162171  Melia azedarach - Wikidata  Melia azedarach   \n",
       "\n",
       "       mapped_curie   mapped_species   sourceinfo  taxon.ott_id  \\\n",
       "0    ncbitaxon:4075    Datura inoxia    ncbi:4075      473815.0   \n",
       "1  ncbitaxon:155640  Melia azedarach  ncbi:155640      916052.0   \n",
       "\n",
       "       ncbitaxon_id              order             family              genus  \n",
       "0    NCBITaxon:4075   [NCBITaxon:4069]   [NCBITaxon:4070]   [NCBITaxon:4074]  \n",
       "1  NCBITaxon:155640  [NCBITaxon:41937]  [NCBITaxon:43707]  [NCBITaxon:43708]  "
      ]
     },
     "execution_count": 9,
     "metadata": {},
     "output_type": "execute_result"
    }
   ],
   "source": [
    "wikidata_df.head(2)"
   ]
  },
  {
   "cell_type": "code",
   "execution_count": 10,
   "metadata": {},
   "outputs": [
    {
     "data": {
      "text/plain": [
       "(61, 181, 672)"
      ]
     },
     "execution_count": 10,
     "metadata": {},
     "output_type": "execute_result"
    }
   ],
   "source": [
    "unique_orders = set()\n",
    "unigue_families = set()\n",
    "unique_genus = set()\n",
    "\n",
    "for i in wikidata_df[\"order\"]:\n",
    "    if i is not None:\n",
    "        unique_orders.update(set(i))\n",
    "\n",
    "for i in wikidata_df[\"family\"]:\n",
    "    if i is not None:\n",
    "        unigue_families.update(set(i))\n",
    "\n",
    "for i in wikidata_df[\"genus\"]:\n",
    "    if i is not None:\n",
    "        unique_genus.update(set(i))\n",
    "\n",
    "# Number of unique orders, families and genus in the ENPKG dataset\n",
    "len(unique_orders), len(unigue_families), len(unique_genus)"
   ]
  },
  {
   "cell_type": "markdown",
   "metadata": {},
   "source": [
    "# Random sampling and comparison"
   ]
  },
  {
   "cell_type": "code",
   "execution_count": 11,
   "metadata": {},
   "outputs": [
    {
     "data": {
      "text/plain": [
       "1017"
      ]
     },
     "execution_count": 11,
     "metadata": {},
     "output_type": "execute_result"
    }
   ],
   "source": [
    "# Sample size of the ENPKG dataset\n",
    "wikidata_df[\"ncbitaxon_id\"].nunique()"
   ]
  },
  {
   "cell_type": "code",
   "execution_count": 12,
   "metadata": {},
   "outputs": [
    {
     "name": "stderr",
     "output_type": "stream",
     "text": [
      "100%|██████████| 10000/10000 [01:26<00:00, 114.97it/s]\n"
     ]
    }
   ],
   "source": [
    "import random\n",
    "\n",
    "random.seed(42)\n",
    "\n",
    "order_estimates = []\n",
    "family_estimates = []\n",
    "genus_estimates = []\n",
    "\n",
    "# Random sampling and comparison\n",
    "for _ in tqdm(range(10000)):\n",
    "    random_sample = random.sample(\n",
    "        list(all_plants), len(wikidata_df[\"ncbitaxon_id\"].unique())\n",
    "    )\n",
    "\n",
    "    order_in_sample = set()\n",
    "    family_in_sample = set()\n",
    "    genus_in_sample = set()\n",
    "\n",
    "    for s in random_sample:\n",
    "        s_order = species_to_order[s]\n",
    "        s_family = species_to_family[s]\n",
    "        s_genus = species_to_genus[s]\n",
    "\n",
    "        order_in_sample.update(set(s_order))\n",
    "        family_in_sample.update(set(s_family))\n",
    "        genus_in_sample.update(set(s_genus))\n",
    "\n",
    "    order_estimates.append(len(order_in_sample))\n",
    "    family_estimates.append(len(family_in_sample))\n",
    "    genus_estimates.append(len(genus_in_sample))"
   ]
  },
  {
   "cell_type": "markdown",
   "metadata": {},
   "source": [
    "# Plot distribution of counts"
   ]
  },
  {
   "cell_type": "code",
   "execution_count": 13,
   "metadata": {},
   "outputs": [],
   "source": [
    "sns.set_style(style=\"ticks\")\n",
    "sns.set_context(context=\"talk\")"
   ]
  },
  {
   "cell_type": "code",
   "execution_count": 14,
   "metadata": {},
   "outputs": [
    {
     "data": {
      "image/png": "[encoded data removed]",
      "text/plain": [
       "<Figure size 800x1000 with 3 Axes>"
      ]
     },
     "metadata": {},
     "output_type": "display_data"
    }
   ],
   "source": [
    "plt.figure(figsize=(8, 10))\n",
    "plt.suptitle(\n",
    "    \"Evaluating plant diversity in ENPKG w.r.t a null distribution\", fontsize=20\n",
    ")\n",
    "\n",
    "plt.subplot(3, 1, 1)\n",
    "sns.kdeplot(order_estimates, fill=True, color=\"#BCD20B\")\n",
    "plt.axvline(\n",
    "    x=len(unique_orders),\n",
    "    color=\"red\",\n",
    "    linestyle=\"--\",\n",
    "    label=\"Orders in ENPKG\",\n",
    ")\n",
    "plt.xlabel(\"Number of orders\")\n",
    "plt.ylabel(\"Frequency\")\n",
    "plt.legend()\n",
    "\n",
    "plt.subplot(3, 1, 2)\n",
    "sns.kdeplot(family_estimates, fill=True, color=\"#7D4B9E\")\n",
    "plt.axvline(\n",
    "    x=len(unigue_families),\n",
    "    color=\"red\",\n",
    "    linestyle=\"--\",\n",
    "    label=\"Families in ENPKG\",\n",
    ")\n",
    "plt.ylabel(\"Frequency\")\n",
    "plt.xlabel(\"Number of families\")\n",
    "plt.legend()\n",
    "\n",
    "plt.subplot(3, 1, 3)\n",
    "sns.kdeplot(genus_estimates, fill=True, color=\"#1c6262\")\n",
    "plt.axvline(\n",
    "    x=len(unique_genus),\n",
    "    color=\"red\",\n",
    "    linestyle=\"--\",\n",
    "    label=\"Genus in ENPKG\",\n",
    ")\n",
    "plt.ylabel(\"Frequency\")\n",
    "plt.xlabel(\"Number of genus\")\n",
    "plt.legend()\n",
    "\n",
    "plt.tight_layout()\n",
    "plt.subplots_adjust(top=0.95)\n",
    "plt.savefig(f\"{FIGURE_DIR}/taxonomic_level_estimates.png\", dpi=400)\n",
    "plt.show()"
   ]
  },
  {
   "cell_type": "code",
   "execution_count": null,
   "metadata": {},
   "outputs": [],
   "source": []
  }
 ],
 "metadata": {
  "kernelspec": {
   "display_name": "unknown-chem-space",
   "language": "python",
   "name": "python3"
  },
  "language_info": {
   "codemirror_mode": {
    "name": "ipython",
    "version": 3
   },
   "file_extension": ".py",
   "mimetype": "text/x-python",
   "name": "python",
   "nbconvert_exporter": "python",
   "pygments_lexer": "ipython3",
   "version": "3.10.15"
  }
 },
 "nbformat": 4,
 "nbformat_minor": 2
}
